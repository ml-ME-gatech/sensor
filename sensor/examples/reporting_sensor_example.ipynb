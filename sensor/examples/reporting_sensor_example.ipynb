{
 "cells": [
  {
   "cell_type": "markdown",
   "id": "24cf6ff8",
   "metadata": {},
   "source": [
    "Author: Michael Lanahan \n",
    "Date Created: 06.23.2021\n",
    "Last Edit: 06.25.2021\n",
    "\n",
    "this script is meant to function as a tutorial on how to work with the SensorArray & Sensor data class from the gtll.sensor module"
   ]
  },
  {
   "cell_type": "code",
   "execution_count": 1,
   "id": "9639af39",
   "metadata": {},
   "outputs": [],
   "source": [
    "from gtll.sensor import SensorArray"
   ]
  },
  {
   "cell_type": "markdown",
   "id": "e11957ef",
   "metadata": {},
   "source": [
    "you will pretty much always use the class method \"from_file\" to instantiate a SensorArray, as\n",
    "this is how it was designed to be used. sensor data is read from a .yaml file into a \n",
    "dictionary like data structure with some useful utilities for manipulating report data"
   ]
  },
  {
   "cell_type": "code",
   "execution_count": 2,
   "id": "1924d613",
   "metadata": {},
   "outputs": [],
   "source": [
    "sensor_array = SensorArray.from_file('sensor_example.yaml')"
   ]
  },
  {
   "cell_type": "markdown",
   "id": "17ee7f17",
   "metadata": {},
   "source": [
    "if you're interested in only a subset of the sensors contained in the file, you can read only those in, such as"
   ]
  },
  {
   "cell_type": "code",
   "execution_count": 3,
   "id": "81d351ea",
   "metadata": {},
   "outputs": [],
   "source": [
    "sensor_array = SensorArray.from_file('sensor_example.yaml',sensor_names = ['HeaterInlet{}'.format(i) for i in range(1,5)])"
   ]
  },
  {
   "cell_type": "markdown",
   "id": "37965c2e",
   "metadata": {},
   "source": [
    "You can automatically print all of the sensor data in the array to a markdown file for reporting purposes\n"
   ]
  },
  {
   "cell_type": "code",
   "execution_count": 4,
   "id": "1bb6b156",
   "metadata": {},
   "outputs": [
    {
     "data": {
      "text/plain": [
       "\"# HeaterInlet1\\n- name: HeaterInlet1\\n- id: T1\\n- part_number: SCAXL-020U-12\\n- manufacturer: Omega\\n- installation_date: None\\n- location: taped to the outside of the heater inlet lines on heater furthest from test section\\n- contact: mlanahan3@gatech.edu\\n- type: Thermocouple\\n- signal: ['C']\\n- measure_units: ['C']\\n- voltage_min: -0.006458\\n- voltage_max: 0.033275\\n- current_min: minimum current\\n- current_max: maximum current\\n- measure_min: 0\\n- measure_max: 800\\n- sample_max: None\\n- sample_min: None\\n- equation: None\\n- uncertainty: ['max', '2.2 [C]', '0.75 [%]']\\n- interface: M12 4 pin\\n\\n# HeaterInlet2\\n- name: HeaterInlet2\\n- id: T2\\n- part_number: SCAXL-020U-12\\n- manufacturer: Omega\\n- installation_date: None\\n- location: taped to the outside of the heater inlet lines on heater second furthest from test section\\n- contact: mlanahan3@gatech.edu\\n- type: Thermocouple\\n- signal: ['C']\\n- measure_units: ['C']\\n- voltage_min: -0.006458\\n- voltage_max: 0.033275\\n- current_min: minimum current\\n- current_max: maximum current\\n- measure_min: 0\\n- measure_max: 800\\n- sample_max: None\\n- sample_min: None\\n- equation: None\\n- uncertainty: ['max', '2.2 [C]', '0.75 [%]']\\n- interface: M12 4 pin\\n\\n# HeaterInlet3\\n- name: HeaterInlet3\\n- id: T3\\n- part_number: SCAXL-020U-12\\n- manufacturer: Omega\\n- installation_date: None\\n- location: taped to the outside of the heater inlet lines on heater second closest to test section\\n- contact: mlanahan3@gatech.edu\\n- type: Thermocouple\\n- signal: ['C']\\n- measure_units: ['C']\\n- voltage_min: -0.006458\\n- voltage_max: 0.033275\\n- current_min: minimum current\\n- current_max: maximum current\\n- measure_min: 0\\n- measure_max: 800\\n- sample_max: None\\n- sample_min: None\\n- equation: None\\n- uncertainty: ['max', '2.2 [C]', '0.75 [%]']\\n- interface: M12 4 pin\\n\\n# HeaterInlet4\\n- name: HeaterInlet4\\n- id: T4\\n- part_number: SCAXL-020U-12\\n- manufacturer: Omega\\n- installation_date: None\\n- location: taped to the outside of the heater inlet lines on heater closest to test section\\n- contact: mlanahan3@gatech.edu\\n- type: Thermocouple\\n- signal: ['C']\\n- measure_units: ['C']\\n- voltage_min: -0.006458\\n- voltage_max: 0.033275\\n- current_min: minimum current\\n- current_max: maximum current\\n- measure_min: 0\\n- measure_max: 800\\n- sample_max: None\\n- sample_min: None\\n- equation: None\\n- uncertainty: ['max', '2.2 [C]', '0.75 [%]']\\n- interface: M12 4 pin\\n\\n\""
      ]
     },
     "execution_count": 4,
     "metadata": {},
     "output_type": "execute_result"
    }
   ],
   "source": [
    "sensor_array.to_md('sensor_report.md')"
   ]
  },
  {
   "cell_type": "markdown",
   "id": "13ee01d1",
   "metadata": {},
   "source": [
    "you could also pass it a stream (using python contextmanager) if you'd like"
   ]
  },
  {
   "cell_type": "code",
   "execution_count": 5,
   "id": "3e187500",
   "metadata": {},
   "outputs": [],
   "source": [
    "with open('sensor_report.md','w') as file:\n",
    "    sensor_array.to_md(file)"
   ]
  },
  {
   "cell_type": "markdown",
   "id": "5b2224c0",
   "metadata": {},
   "source": [
    "You could create a better summarizing table for the information"
   ]
  },
  {
   "cell_type": "code",
   "execution_count": 6,
   "id": "c256ce1b",
   "metadata": {},
   "outputs": [
    {
     "name": "stdout",
     "output_type": "stream",
     "text": [
      "|                   | HeaterInlet1                                                                        | HeaterInlet2                                                                               | HeaterInlet3                                                                            | HeaterInlet4                                                                     |\n",
      "|-------------------|-------------------------------------------------------------------------------------|--------------------------------------------------------------------------------------------|-----------------------------------------------------------------------------------------|----------------------------------------------------------------------------------|\n",
      "| name              | HeaterInlet1                                                                        | HeaterInlet2                                                                               | HeaterInlet3                                                                            | HeaterInlet4                                                                     |\n",
      "| uncertainty       | ['max', '2.2 [C]', '0.75 [%]']                                                      | ['max', '2.2 [C]', '0.75 [%]']                                                             | ['max', '2.2 [C]', '0.75 [%]']                                                          | ['max', '2.2 [C]', '0.75 [%]']                                                   |\n",
      "| measure_min       | 0                                                                                   | 0                                                                                          | 0                                                                                       | 0                                                                                |\n",
      "| voltage_min       | -0.006458                                                                           | -0.006458                                                                                  | -0.006458                                                                               | -0.006458                                                                        |\n",
      "| manufacturer      | Omega                                                                               | Omega                                                                                      | Omega                                                                                   | Omega                                                                            |\n",
      "| id                | T1                                                                                  | T2                                                                                         | T3                                                                                      | T4                                                                               |\n",
      "| contact           | mlanahan3@gatech.edu                                                                | mlanahan3@gatech.edu                                                                       | mlanahan3@gatech.edu                                                                    | mlanahan3@gatech.edu                                                             |\n",
      "| type              | Thermocouple                                                                        | Thermocouple                                                                               | Thermocouple                                                                            | Thermocouple                                                                     |\n",
      "| interface         | M12 4 pin                                                                           | M12 4 pin                                                                                  | M12 4 pin                                                                               | M12 4 pin                                                                        |\n",
      "| installation_date | None                                                                                | None                                                                                       | None                                                                                    | None                                                                             |\n",
      "| part_number       | SCAXL-020U-12                                                                       | SCAXL-020U-12                                                                              | SCAXL-020U-12                                                                           | SCAXL-020U-12                                                                    |\n",
      "| location          | taped to the outside of the heater inlet lines on heater furthest from test section | taped to the outside of the heater inlet lines on heater second furthest from test section | taped to the outside of the heater inlet lines on heater second closest to test section | taped to the outside of the heater inlet lines on heater closest to test section |\n",
      "| voltage_max       | 0.033275                                                                            | 0.033275                                                                                   | 0.033275                                                                                | 0.033275                                                                         |\n",
      "| equation          | None                                                                                | None                                                                                       | None                                                                                    | None                                                                             |\n",
      "| signal            | ['C']                                                                               | ['C']                                                                                      | ['C']                                                                                   | ['C']                                                                            |\n",
      "| measure_units     | ['C']                                                                               | ['C']                                                                                      | ['C']                                                                                   | ['C']                                                                            |\n",
      "| current_max       | maximum current                                                                     | maximum current                                                                            | maximum current                                                                         | maximum current                                                                  |\n",
      "| sample_min        | None                                                                                | None                                                                                       | None                                                                                    | None                                                                             |\n",
      "| sample_max        | None                                                                                | None                                                                                       | None                                                                                    | None                                                                             |\n",
      "| measure_max       | 800                                                                                 | 800                                                                                        | 800                                                                                     | 800                                                                              |\n",
      "| current_min       | minimum current                                                                     | minimum current                                                                            | minimum current                                                                         | minimum current                                                                  |\n"
     ]
    }
   ],
   "source": [
    "table = sensor_array.to_table()\n",
    "print(table)"
   ]
  },
  {
   "cell_type": "markdown",
   "id": "654c3641",
   "metadata": {},
   "source": [
    "maybe you only want certain information in your table because it gets messy"
   ]
  },
  {
   "cell_type": "code",
   "execution_count": 7,
   "id": "f535c90c",
   "metadata": {},
   "outputs": [
    {
     "name": "stdout",
     "output_type": "stream",
     "text": [
      "|             | HeaterInlet1   | HeaterInlet2   | HeaterInlet3   | HeaterInlet4   |\n",
      "|-------------|----------------|----------------|----------------|----------------|\n",
      "| name        | HeaterInlet1   | HeaterInlet2   | HeaterInlet3   | HeaterInlet4   |\n",
      "| id          | T1             | T2             | T3             | T4             |\n",
      "| part_number | SCAXL-020U-12  | SCAXL-020U-12  | SCAXL-020U-12  | SCAXL-020U-12  |\n"
     ]
    }
   ],
   "source": [
    "table = sensor_array.to_table(include = ['id','part_number','name'])\n",
    "print(table)"
   ]
  },
  {
   "cell_type": "markdown",
   "id": "f48d2c1e",
   "metadata": {},
   "source": [
    "or perhaps you'd just like to exclude a few lines"
   ]
  },
  {
   "cell_type": "code",
   "execution_count": 8,
   "id": "24276ffe",
   "metadata": {},
   "outputs": [
    {
     "name": "stdout",
     "output_type": "stream",
     "text": [
      "|                   | HeaterInlet1                   | HeaterInlet2                   | HeaterInlet3                   | HeaterInlet4                   |\n",
      "|-------------------|--------------------------------|--------------------------------|--------------------------------|--------------------------------|\n",
      "| type              | Thermocouple                   | Thermocouple                   | Thermocouple                   | Thermocouple                   |\n",
      "| equation          | None                           | None                           | None                           | None                           |\n",
      "| interface         | M12 4 pin                      | M12 4 pin                      | M12 4 pin                      | M12 4 pin                      |\n",
      "| name              | HeaterInlet1                   | HeaterInlet2                   | HeaterInlet3                   | HeaterInlet4                   |\n",
      "| manufacturer      | Omega                          | Omega                          | Omega                          | Omega                          |\n",
      "| id                | T1                             | T2                             | T3                             | T4                             |\n",
      "| installation_date | None                           | None                           | None                           | None                           |\n",
      "| signal            | ['C']                          | ['C']                          | ['C']                          | ['C']                          |\n",
      "| contact           | mlanahan3@gatech.edu           | mlanahan3@gatech.edu           | mlanahan3@gatech.edu           | mlanahan3@gatech.edu           |\n",
      "| measure_units     | ['C']                          | ['C']                          | ['C']                          | ['C']                          |\n",
      "| part_number       | SCAXL-020U-12                  | SCAXL-020U-12                  | SCAXL-020U-12                  | SCAXL-020U-12                  |\n",
      "| sample_min        | None                           | None                           | None                           | None                           |\n",
      "| sample_max        | None                           | None                           | None                           | None                           |\n",
      "| uncertainty       | ['max', '2.2 [C]', '0.75 [%]'] | ['max', '2.2 [C]', '0.75 [%]'] | ['max', '2.2 [C]', '0.75 [%]'] | ['max', '2.2 [C]', '0.75 [%]'] |\n"
     ]
    }
   ],
   "source": [
    "table = sensor_array.to_table(exclude = ['location','measure_min','measure_max','voltage_min','voltage_max','current_max','current_min'])\n",
    "print(table)"
   ]
  },
  {
   "cell_type": "markdown",
   "id": "b149e039",
   "metadata": {},
   "source": [
    "maybe you'd like to have a different table format, please refer to the \"tabulate\" package on allowable table formats\n"
   ]
  },
  {
   "cell_type": "code",
   "execution_count": 9,
   "id": "878ea543",
   "metadata": {},
   "outputs": [
    {
     "name": "stdout",
     "output_type": "stream",
     "text": [
      "+-------------+----------------+----------------+----------------+----------------+\n",
      "|             | HeaterInlet1   | HeaterInlet2   | HeaterInlet3   | HeaterInlet4   |\n",
      "+=============+================+================+================+================+\n",
      "| name        | HeaterInlet1   | HeaterInlet2   | HeaterInlet3   | HeaterInlet4   |\n",
      "+-------------+----------------+----------------+----------------+----------------+\n",
      "| id          | T1             | T2             | T3             | T4             |\n",
      "+-------------+----------------+----------------+----------------+----------------+\n",
      "| part_number | SCAXL-020U-12  | SCAXL-020U-12  | SCAXL-020U-12  | SCAXL-020U-12  |\n",
      "+-------------+----------------+----------------+----------------+----------------+\n"
     ]
    }
   ],
   "source": [
    "table = sensor_array.to_table(include = ['id','part_number','name'],tablefmt = 'grid')\n",
    "print(table)"
   ]
  },
  {
   "cell_type": "markdown",
   "id": "95b96a16",
   "metadata": {},
   "source": [
    "you can also change the field which heads each column, for example:"
   ]
  },
  {
   "cell_type": "code",
   "execution_count": 10,
   "id": "2f0a54e6",
   "metadata": {},
   "outputs": [
    {
     "name": "stdout",
     "output_type": "stream",
     "text": [
      "|             | T1            | T2            | T3            | T4            |\n",
      "|-------------|---------------|---------------|---------------|---------------|\n",
      "| name        | HeaterInlet1  | HeaterInlet2  | HeaterInlet3  | HeaterInlet4  |\n",
      "| part_number | SCAXL-020U-12 | SCAXL-020U-12 | SCAXL-020U-12 | SCAXL-020U-12 |\n"
     ]
    }
   ],
   "source": [
    "table = sensor_array.to_table(include = ['part_number','name'],headerfmt = 'id')\n",
    "print(table)"
   ]
  },
  {
   "cell_type": "markdown",
   "id": "02c0a5ee",
   "metadata": {},
   "source": [
    "finally, you may want to change the order of columns and rows"
   ]
  },
  {
   "cell_type": "code",
   "execution_count": 11,
   "id": "a31fbe6d",
   "metadata": {},
   "outputs": [
    {
     "name": "stdout",
     "output_type": "stream",
     "text": [
      "+----+--------------------------------------------------------------------------------------------+--------------+---------------+-----------+\n",
      "|    |                                          location                                          |     type     |  part_number  | interface |\n",
      "+----+--------------------------------------------------------------------------------------------+--------------+---------------+-----------+\n",
      "| T1 |    taped to the outside of the heater inlet lines on heater furthest from test section     | Thermocouple | SCAXL-020U-12 | M12 4 pin |\n",
      "| T2 | taped to the outside of the heater inlet lines on heater second furthest from test section | Thermocouple | SCAXL-020U-12 | M12 4 pin |\n",
      "| T3 |  taped to the outside of the heater inlet lines on heater second closest to test section   | Thermocouple | SCAXL-020U-12 | M12 4 pin |\n",
      "| T4 |      taped to the outside of the heater inlet lines on heater closest to test section      | Thermocouple | SCAXL-020U-12 | M12 4 pin |\n",
      "+----+--------------------------------------------------------------------------------------------+--------------+---------------+-----------+\n"
     ]
    }
   ],
   "source": [
    "table = sensor_array.to_table(include = ['type','interface','part_number','location'],headerfmt = 'id',columns = 'attribute',tablefmt = 'pretty')\n",
    "print(table)"
   ]
  },
  {
   "cell_type": "code",
   "execution_count": null,
   "id": "b60a4f23",
   "metadata": {},
   "outputs": [],
   "source": []
  }
 ],
 "metadata": {
  "kernelspec": {
   "display_name": "Python 3",
   "language": "python",
   "name": "python3"
  },
  "language_info": {
   "codemirror_mode": {
    "name": "ipython",
    "version": 3
   },
   "file_extension": ".py",
   "mimetype": "text/x-python",
   "name": "python",
   "nbconvert_exporter": "python",
   "pygments_lexer": "ipython3",
   "version": "3.9.1"
  }
 },
 "nbformat": 4,
 "nbformat_minor": 5
}
