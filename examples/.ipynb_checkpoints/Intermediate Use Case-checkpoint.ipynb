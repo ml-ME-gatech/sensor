{
 "cells": [
  {
   "cell_type": "markdown",
   "id": "c7315cb4",
   "metadata": {},
   "source": [
    "The following is an intermediate use case. The first block here just defines some experimental constants."
   ]
  },
  {
   "cell_type": "code",
   "execution_count": 10,
   "id": "c49a8750",
   "metadata": {},
   "outputs": [],
   "source": [
    "import math\n",
    "import pandas as pd\n",
    "\n",
    "# Venturi Constants\n",
    "Cd = 0.8828                                  # Venturi meter discharge coefficient\n",
    "A1 = (0.622*0.0254)**2*math.pi/4             # Large Venturi Area\n",
    "A2 = (0.228*0.0254)**2*math.pi/4             # Small Venturi Area\n",
    "\n",
    "# HEMJ Constants\n",
    "LTC = 0.0005                                 # Ideal Distance to Cooled Surface for TCs [m]\n",
    "Dj = 0.00104                                 # Center Jet Diameter [m]\n",
    "Dj2 = 0.0006                                 # Other Jet Diameter [m]\n",
    "Dflat = 0.00118                              # Flat Jet Diameter (FR1H07) [m]\n",
    "Di = 0.00954                                 # Inner Tube Diameter [m]\n",
    "Aj = Dj**2*math.pi/4 + 24*Dj2**2*math.pi/4   # Total Jet Cross Sectional Area [m^2]\n",
    "Ah = 0.0169926**2*math.pi/4;                 # Heated Surface Area [m^2]\n",
    "Ac = 184.21e-6;\n",
    "Ai = Di**2*math.pi/4;                        # Inner Tube Cross-sectional area [m^2]\n",
    "P = Dj*math.pi + 24*Dj2*math.pi;             # Total Jet Perimeter [m^2]\n",
    "Dh = 4*Aj/P;                                 # Hydraulic Diameter [m]\n",
    "\n",
    "# Geometry Error\n",
    "eLTC = 0.0001\n",
    "LTC8=0.0008 \n",
    "LTC6=0.00084 \n",
    "LTC4=0.0008 \n",
    "LTC2=0.0006        \n",
    "eLTC8 = 0.2*LTC8 \n",
    "eLTC6 = 0.2*LTC6 \n",
    "eLTC4 = 0.2*LTC4 \n",
    "eLTC2 = 0.2*LTC2\n",
    "eDj = 0.00005\n",
    "eDj2 = 0.00005\n",
    "eDflat = 0.00005\n",
    "eAj = math.pi/4*((2*Dj*eDj)**2+(2*Dj2*eDj2)**2)**(1/2)\n",
    "eAh = math.pi/2*0.017*0.00005\n",
    "eAc = 2*math.pi*0.00647*0.00005\n",
    "eP = eDj*math.pi + 24*eDj2*math.pi\n",
    "eDh = ((4/P*eAj)**2+(-4*Aj/P**2*eP)**2)**(1/2)"
   ]
  },
  {
   "cell_type": "markdown",
   "id": "de01549e",
   "metadata": {},
   "source": [
    "The next step is to read the data into a pandas DataFrame using the read_csv function"
   ]
  },
  {
   "cell_type": "code",
   "execution_count": 103,
   "id": "37d557d4",
   "metadata": {},
   "outputs": [
    {
     "name": "stderr",
     "output_type": "stream",
     "text": [
      "IOPub data rate exceeded.\n",
      "The notebook server will temporarily stop sending output\n",
      "to the client in order to avoid crashing it.\n",
      "To change this limit, set the config variable\n",
      "`--NotebookApp.iopub_data_rate_limit`.\n",
      "\n",
      "Current values:\n",
      "NotebookApp.iopub_data_rate_limit=1000000.0 (bytes/sec)\n",
      "NotebookApp.rate_limit_window=3.0 (secs)\n",
      "\n"
     ]
    }
   ],
   "source": [
    "import os\n",
    "import re\n",
    "import itertools\n",
    "\n",
    "def clean_legacy_csv(fname):\n",
    "    \n",
    "    header = []\n",
    "    csv = []\n",
    "    with open(fname,'r') as file:\n",
    "        txt_data = file.read()\n",
    "        print(txt_data)\n",
    "        print('scan' in txt_data)\n",
    "        delim = re.finditer('\\n',txt_data)\n",
    "        delim1,delim2 = itertools.tee(delim,2)\n",
    "        \n",
    "        line_data = []\n",
    "        line_data.append(txt_data[0:next(delim2).start()])\n",
    "        \n",
    "        for d1,d2 in zip(delim1,delim2):\n",
    "            line = txt_data[d1.end()+1:d2.start()]\n",
    "            line_data.append(line)\n",
    "            print(line)\n",
    "        \n",
    "        raw_dat = ''.join(line_data)\n",
    "        print(raw_dat)\n",
    "        \n",
    "                \n",
    "\n",
    "#clean_legacy_csv('legacy_code/Helium Loop 2_20_2018 11_39_43.csv')\n",
    "data = pd.read_csv('legacy_code/Helium Loop 2_20_2018 11_39_43.csv',sep = '\\t',\n",
    "                  header = 0,skiprows = 52,parse_dates = True,index_col = 1,skip_blank_lines = True,encoding = 'utf-16')\n",
    "\n",
    "print(data)"
   ]
  },
  {
   "cell_type": "code",
   "execution_count": null,
   "id": "1a91644d",
   "metadata": {},
   "outputs": [],
   "source": []
  }
 ],
 "metadata": {
  "kernelspec": {
   "display_name": "Python 3 (ipykernel)",
   "language": "python",
   "name": "python3"
  },
  "language_info": {
   "codemirror_mode": {
    "name": "ipython",
    "version": 3
   },
   "file_extension": ".py",
   "mimetype": "text/x-python",
   "name": "python",
   "nbconvert_exporter": "python",
   "pygments_lexer": "ipython3",
   "version": "3.7.8"
  }
 },
 "nbformat": 4,
 "nbformat_minor": 5
}
